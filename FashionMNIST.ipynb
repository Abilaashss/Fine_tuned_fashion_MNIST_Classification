{
  "nbformat": 4,
  "nbformat_minor": 0,
  "metadata": {
    "colab": {
      "provenance": [],
      "gpuType": "T4"
    },
    "kernelspec": {
      "name": "python3",
      "display_name": "Python 3"
    },
    "language_info": {
      "name": "python"
    },
    "accelerator": "GPU"
  },
  "cells": [
    {
      "cell_type": "code",
      "source": [
        "import tensorflow as tf\n",
        "from tensorflow import keras\n",
        "import numpy as np"
      ],
      "metadata": {
        "id": "YWeJRQv-nHuB"
      },
      "execution_count": 3,
      "outputs": []
    },
    {
      "cell_type": "code",
      "source": [
        "fashion_mnist = keras.datasets.fashion_mnist"
      ],
      "metadata": {
        "id": "2JZUZ0k0nHwk"
      },
      "execution_count": 5,
      "outputs": []
    },
    {
      "cell_type": "code",
      "source": [
        "(train_images,train_labels),(test_images,test_labels)=fashion_mnist.load_data()"
      ],
      "metadata": {
        "colab": {
          "base_uri": "https://localhost:8080/"
        },
        "id": "DLPtTtTonHzc",
        "outputId": "05786ef5-c21f-4494-e19c-0862352563e8"
      },
      "execution_count": 6,
      "outputs": [
        {
          "output_type": "stream",
          "name": "stdout",
          "text": [
            "Downloading data from https://storage.googleapis.com/tensorflow/tf-keras-datasets/train-labels-idx1-ubyte.gz\n",
            "29515/29515 [==============================] - 0s 0us/step\n",
            "Downloading data from https://storage.googleapis.com/tensorflow/tf-keras-datasets/train-images-idx3-ubyte.gz\n",
            "26421880/26421880 [==============================] - 0s 0us/step\n",
            "Downloading data from https://storage.googleapis.com/tensorflow/tf-keras-datasets/t10k-labels-idx1-ubyte.gz\n",
            "5148/5148 [==============================] - 0s 0us/step\n",
            "Downloading data from https://storage.googleapis.com/tensorflow/tf-keras-datasets/t10k-images-idx3-ubyte.gz\n",
            "4422102/4422102 [==============================] - 0s 0us/step\n"
          ]
        }
      ]
    },
    {
      "cell_type": "code",
      "source": [
        "train_images = train_images/255.0\n",
        "test_images = test_images/255.0"
      ],
      "metadata": {
        "id": "eu2eTflhnH1x"
      },
      "execution_count": 7,
      "outputs": []
    },
    {
      "cell_type": "code",
      "source": [
        "train_images[0].shape"
      ],
      "metadata": {
        "colab": {
          "base_uri": "https://localhost:8080/"
        },
        "id": "XiSQvYTOnH4O",
        "outputId": "6d04d329-6834-4f83-8d9c-eeb1bf57912d"
      },
      "execution_count": 9,
      "outputs": [
        {
          "output_type": "execute_result",
          "data": {
            "text/plain": [
              "(28, 28)"
            ]
          },
          "metadata": {},
          "execution_count": 9
        }
      ]
    },
    {
      "cell_type": "code",
      "source": [
        "train_images = train_images.reshape(len(train_images),28,28,1)\n",
        "test_images = test_images.reshape(len(test_images),28,28,1)"
      ],
      "metadata": {
        "id": "v9O58ldwpCSu"
      },
      "execution_count": 12,
      "outputs": []
    },
    {
      "cell_type": "code",
      "source": [
        "def build_model(hp):\n",
        "  model = keras.Sequential([\n",
        "      keras.layers.Conv2D(\n",
        "          filters = hp.Int('conv_1_filter',min_value = 32,max_value = 128,step = 16),\n",
        "          kernel_size = hp.Choice('conv_1_kernel',values = [3,5]),\n",
        "          activation = 'relu',\n",
        "          input_shape = (28,28,1)\n",
        "      ),\n",
        "      keras.layers.Conv2D(\n",
        "          filters = hp.Int('conv_2_filter',min_value = 32,max_value = 64,step = 16),\n",
        "          kernel_size = hp.Choice('conv_2_kernel',values = [3,5]),\n",
        "          activation = 'relu'\n",
        "      ),\n",
        "      keras.layers.Flatten(),\n",
        "      keras.layers.Dense(\n",
        "          units = hp.Int('dense_1_units',min_value = 32,max_value = 128,step = 16),\n",
        "          activation = 'relu'\n",
        "      ),\n",
        "      keras.layers.Dense(10,activation = 'softmax')\n",
        "\n",
        "  ])\n",
        "\n",
        "  model.compile(optimizer = keras.optimizers.Adam(hp.Choice('learning_rate',values = [1e-2,1e-3])),\n",
        "                loss = 'sparse_categorical_crossentropy',\n",
        "                metrics = ['accuracy'])\n",
        "  return model"
      ],
      "metadata": {
        "id": "JxYh5WuqpTP7"
      },
      "execution_count": 13,
      "outputs": []
    },
    {
      "cell_type": "code",
      "source": [
        "from kerastuner import RandomSearch\n",
        "from kerastuner.engine.hyperparameters import HyperParameters"
      ],
      "metadata": {
        "id": "KOXbcyfIr7ls"
      },
      "execution_count": 15,
      "outputs": []
    },
    {
      "cell_type": "code",
      "source": [
        "tuner_search = RandomSearch(build_model,\n",
        "                            objective = 'val_accuracy',\n",
        "                            max_trials = 5,\n",
        "                            directory = 'output',\n",
        "                            project_name = 'Mnist Fashion'\n",
        "                            )"
      ],
      "metadata": {
        "id": "EgwS89AisPnl"
      },
      "execution_count": 16,
      "outputs": []
    },
    {
      "cell_type": "code",
      "source": [
        "tuner_search.search(train_images,train_labels,epochs = 3,validation_split = 0.1)"
      ],
      "metadata": {
        "colab": {
          "base_uri": "https://localhost:8080/"
        },
        "id": "X-TV1ogXtDmK",
        "outputId": "453dc847-c08f-4014-f594-f106df553250"
      },
      "execution_count": 17,
      "outputs": [
        {
          "output_type": "stream",
          "name": "stdout",
          "text": [
            "Trial 5 Complete [00h 07m 23s]\n",
            "val_accuracy: 0.9110000133514404\n",
            "\n",
            "Best val_accuracy So Far: 0.9110000133514404\n",
            "Total elapsed time: 00h 55m 48s\n"
          ]
        }
      ]
    },
    {
      "cell_type": "code",
      "source": [
        "model = tuner_search.get_best_models(num_models = 1)[0]"
      ],
      "metadata": {
        "id": "JKbItQT0vSN1"
      },
      "execution_count": 18,
      "outputs": []
    },
    {
      "cell_type": "code",
      "source": [
        "model.summary()"
      ],
      "metadata": {
        "colab": {
          "base_uri": "https://localhost:8080/"
        },
        "id": "XCV6BM_bvlgp",
        "outputId": "82111170-a9b8-402d-caf0-db9bdfa52d92"
      },
      "execution_count": 19,
      "outputs": [
        {
          "output_type": "stream",
          "name": "stdout",
          "text": [
            "Model: \"sequential\"\n",
            "_________________________________________________________________\n",
            " Layer (type)                Output Shape              Param #   \n",
            "=================================================================\n",
            " conv2d (Conv2D)             (None, 24, 24, 112)       2912      \n",
            "                                                                 \n",
            " conv2d_1 (Conv2D)           (None, 22, 22, 32)        32288     \n",
            "                                                                 \n",
            " flatten (Flatten)           (None, 15488)             0         \n",
            "                                                                 \n",
            " dense (Dense)               (None, 80)                1239120   \n",
            "                                                                 \n",
            " dense_1 (Dense)             (None, 10)                810       \n",
            "                                                                 \n",
            "=================================================================\n",
            "Total params: 1275130 (4.86 MB)\n",
            "Trainable params: 1275130 (4.86 MB)\n",
            "Non-trainable params: 0 (0.00 Byte)\n",
            "_________________________________________________________________\n"
          ]
        }
      ]
    },
    {
      "cell_type": "code",
      "source": [
        "model.fit(train_images, train_labels, epochs = 15, validation_split = 0.1, initial_epoch = 3)"
      ],
      "metadata": {
        "colab": {
          "base_uri": "https://localhost:8080/"
        },
        "id": "R11UoIczvlxK",
        "outputId": "a2910114-f3e4-4361-cfb5-161996dd812f"
      },
      "execution_count": 20,
      "outputs": [
        {
          "output_type": "stream",
          "name": "stdout",
          "text": [
            "Epoch 4/15\n",
            "1688/1688 [==============================] - 132s 77ms/step - loss: 0.1666 - accuracy: 0.9367 - val_loss: 0.2567 - val_accuracy: 0.9065\n",
            "Epoch 5/15\n",
            "1688/1688 [==============================] - 130s 77ms/step - loss: 0.1293 - accuracy: 0.9511 - val_loss: 0.2852 - val_accuracy: 0.9015\n",
            "Epoch 6/15\n",
            "1688/1688 [==============================] - 126s 74ms/step - loss: 0.1004 - accuracy: 0.9631 - val_loss: 0.3061 - val_accuracy: 0.9112\n",
            "Epoch 7/15\n",
            "1688/1688 [==============================] - 124s 73ms/step - loss: 0.0754 - accuracy: 0.9722 - val_loss: 0.3329 - val_accuracy: 0.9100\n",
            "Epoch 8/15\n",
            "1688/1688 [==============================] - 125s 74ms/step - loss: 0.0598 - accuracy: 0.9780 - val_loss: 0.3773 - val_accuracy: 0.9127\n",
            "Epoch 9/15\n",
            "1688/1688 [==============================] - 124s 74ms/step - loss: 0.0436 - accuracy: 0.9840 - val_loss: 0.3856 - val_accuracy: 0.9055\n",
            "Epoch 10/15\n",
            "1688/1688 [==============================] - 124s 74ms/step - loss: 0.0379 - accuracy: 0.9861 - val_loss: 0.4511 - val_accuracy: 0.9038\n",
            "Epoch 11/15\n",
            "1688/1688 [==============================] - 125s 74ms/step - loss: 0.0342 - accuracy: 0.9872 - val_loss: 0.5019 - val_accuracy: 0.9147\n",
            "Epoch 12/15\n",
            "1688/1688 [==============================] - 123s 73ms/step - loss: 0.0303 - accuracy: 0.9894 - val_loss: 0.4933 - val_accuracy: 0.9143\n",
            "Epoch 13/15\n",
            "1688/1688 [==============================] - 128s 76ms/step - loss: 0.0264 - accuracy: 0.9906 - val_loss: 0.5585 - val_accuracy: 0.9095\n",
            "Epoch 14/15\n",
            "1688/1688 [==============================] - 127s 75ms/step - loss: 0.0210 - accuracy: 0.9926 - val_loss: 0.5577 - val_accuracy: 0.9087\n",
            "Epoch 15/15\n",
            "1688/1688 [==============================] - 129s 77ms/step - loss: 0.0206 - accuracy: 0.9929 - val_loss: 0.6434 - val_accuracy: 0.9110\n"
          ]
        },
        {
          "output_type": "execute_result",
          "data": {
            "text/plain": [
              "<keras.src.callbacks.History at 0x7cf8c6bb0160>"
            ]
          },
          "metadata": {},
          "execution_count": 20
        }
      ]
    },
    {
      "cell_type": "code",
      "source": [],
      "metadata": {
        "id": "EAUJfwozJbCQ"
      },
      "execution_count": null,
      "outputs": []
    },
    {
      "cell_type": "code",
      "source": [],
      "metadata": {
        "id": "oVC8V-5TJbvE"
      },
      "execution_count": null,
      "outputs": []
    }
  ]
}